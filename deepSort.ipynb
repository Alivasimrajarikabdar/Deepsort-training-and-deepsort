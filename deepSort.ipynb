{
  "nbformat": 4,
  "nbformat_minor": 0,
  "metadata": {
    "colab": {
      "provenance": [],
      "gpuType": "T4"
    },
    "kernelspec": {
      "name": "python3",
      "display_name": "Python 3"
    },
    "language_info": {
      "name": "python"
    },
    "accelerator": "GPU"
  },
  "cells": [
    {
      "cell_type": "code",
      "source": [
        "%cd /content/drive/MyDrive/DeepSort"
      ],
      "metadata": {
        "colab": {
          "base_uri": "https://localhost:8080/"
        },
        "id": "HF7pGtlx7YtE",
        "outputId": "af01ce40-409a-4d98-e70c-d8e77b3e5d4a"
      },
      "execution_count": 3,
      "outputs": [
        {
          "output_type": "stream",
          "name": "stdout",
          "text": [
            "/content/drive/MyDrive/DeepSort\n"
          ]
        }
      ]
    },
    {
      "cell_type": "code",
      "source": [
        "from google.colab import drive\n",
        "drive.mount('/content/drive')"
      ],
      "metadata": {
        "colab": {
          "base_uri": "https://localhost:8080/"
        },
        "id": "LEp3kOHbKoXJ",
        "outputId": "775f8779-c749-4bf7-a6bc-4116fbacdd00"
      },
      "execution_count": 1,
      "outputs": [
        {
          "output_type": "stream",
          "name": "stdout",
          "text": [
            "Mounted at /content/drive\n"
          ]
        }
      ]
    },
    {
      "cell_type": "code",
      "source": [
        "!pwd"
      ],
      "metadata": {
        "colab": {
          "base_uri": "https://localhost:8080/"
        },
        "id": "79khEYyweaGS",
        "outputId": "5a3feb39-2873-4164-ab87-f0bce58db043"
      },
      "execution_count": 4,
      "outputs": [
        {
          "output_type": "stream",
          "name": "stdout",
          "text": [
            "/content/drive/MyDrive/DeepSort\n"
          ]
        }
      ]
    },
    {
      "cell_type": "code",
      "execution_count": 5,
      "metadata": {
        "colab": {
          "base_uri": "https://localhost:8080/"
        },
        "id": "3UJhVsZf5cod",
        "outputId": "dba9ace6-0517-496d-93ec-a7e25e32cce5"
      },
      "outputs": [
        {
          "output_type": "stream",
          "name": "stdout",
          "text": [
            "fatal: destination path 'deep_sort_pytorch' already exists and is not an empty directory.\n"
          ]
        }
      ],
      "source": [
        "!git clone https://github.com/ZQPei/deep_sort_pytorch.git"
      ]
    },
    {
      "cell_type": "code",
      "source": [
        "%cd deep_sort_pytorch/"
      ],
      "metadata": {
        "colab": {
          "base_uri": "https://localhost:8080/"
        },
        "id": "UVqVjIDP5ur8",
        "outputId": "926672b8-6828-47e9-9dea-3296edfb34c2"
      },
      "execution_count": 6,
      "outputs": [
        {
          "output_type": "stream",
          "name": "stdout",
          "text": [
            "/content/drive/MyDrive/DeepSort/deep_sort_pytorch\n"
          ]
        }
      ]
    },
    {
      "cell_type": "code",
      "source": [
        "!pip install -r requirements.txt"
      ],
      "metadata": {
        "colab": {
          "base_uri": "https://localhost:8080/"
        },
        "id": "eLLcjGyw59Oa",
        "outputId": "e42e141b-2393-42f4-c0c1-e63b106c9eb8"
      },
      "execution_count": 7,
      "outputs": [
        {
          "output_type": "stream",
          "name": "stdout",
          "text": [
            "Collecting atomicwrites==1.3.0 (from -r requirements.txt (line 1))\n",
            "  Downloading atomicwrites-1.3.0-py2.py3-none-any.whl (5.9 kB)\n",
            "Collecting attrs==19.3.0 (from -r requirements.txt (line 2))\n",
            "  Downloading attrs-19.3.0-py2.py3-none-any.whl (39 kB)\n",
            "Collecting colorama==0.4.3 (from -r requirements.txt (line 3))\n",
            "  Downloading colorama-0.4.3-py2.py3-none-any.whl (15 kB)\n",
            "Collecting easydict==1.9 (from -r requirements.txt (line 4))\n",
            "  Downloading easydict-1.9.tar.gz (6.4 kB)\n",
            "  Preparing metadata (setup.py) ... \u001b[?25l\u001b[?25hdone\n",
            "Collecting entrypoints==0.3 (from -r requirements.txt (line 5))\n",
            "  Downloading entrypoints-0.3-py2.py3-none-any.whl (11 kB)\n",
            "Collecting et-xmlfile==1.0.1 (from -r requirements.txt (line 6))\n",
            "  Downloading et_xmlfile-1.0.1.tar.gz (8.4 kB)\n",
            "  Preparing metadata (setup.py) ... \u001b[?25l\u001b[?25hdone\n",
            "Collecting flake8==3.7.9 (from -r requirements.txt (line 7))\n",
            "  Downloading flake8-3.7.9-py2.py3-none-any.whl (69 kB)\n",
            "\u001b[2K     \u001b[90m━━━━━━━━━━━━━━━━━━━━━━━━━━━━━━━━━━━━━━━━\u001b[0m \u001b[32m69.9/69.9 kB\u001b[0m \u001b[31m6.0 MB/s\u001b[0m eta \u001b[36m0:00:00\u001b[0m\n",
            "\u001b[?25hCollecting flake8-import-order==0.18.1 (from -r requirements.txt (line 8))\n",
            "  Downloading flake8_import_order-0.18.1-py2.py3-none-any.whl (15 kB)\n",
            "Collecting importlib-metadata==1.6.0 (from -r requirements.txt (line 9))\n",
            "  Downloading importlib_metadata-1.6.0-py2.py3-none-any.whl (30 kB)\n",
            "Collecting jdcal==1.4.1 (from -r requirements.txt (line 10))\n",
            "  Downloading jdcal-1.4.1-py2.py3-none-any.whl (9.5 kB)\n",
            "Collecting joblib==0.14.1 (from -r requirements.txt (line 11))\n",
            "  Downloading joblib-0.14.1-py2.py3-none-any.whl (294 kB)\n",
            "\u001b[2K     \u001b[90m━━━━━━━━━━━━━━━━━━━━━━━━━━━━━━━━━━━━━━━━\u001b[0m \u001b[32m294.9/294.9 kB\u001b[0m \u001b[31m7.6 MB/s\u001b[0m eta \u001b[36m0:00:00\u001b[0m\n",
            "\u001b[?25hCollecting numpy==1.18.2 (from -r requirements.txt (line 12))\n",
            "  Downloading numpy-1.18.2.zip (5.4 MB)\n",
            "\u001b[2K     \u001b[90m━━━━━━━━━━━━━━━━━━━━━━━━━━━━━━━━━━━━━━━━\u001b[0m \u001b[32m5.4/5.4 MB\u001b[0m \u001b[31m14.4 MB/s\u001b[0m eta \u001b[36m0:00:00\u001b[0m\n",
            "\u001b[?25h  Installing build dependencies ... \u001b[?25l\u001b[?25hdone\n",
            "  Getting requirements to build wheel ... \u001b[?25l\u001b[?25hdone\n",
            "  \u001b[1;31merror\u001b[0m: \u001b[1msubprocess-exited-with-error\u001b[0m\n",
            "  \n",
            "  \u001b[31m×\u001b[0m \u001b[32mPreparing metadata \u001b[0m\u001b[1;32m(\u001b[0m\u001b[32mpyproject.toml\u001b[0m\u001b[1;32m)\u001b[0m did not run successfully.\n",
            "  \u001b[31m│\u001b[0m exit code: \u001b[1;36m1\u001b[0m\n",
            "  \u001b[31m╰─>\u001b[0m See above for output.\n",
            "  \n",
            "  \u001b[1;35mnote\u001b[0m: This error originates from a subprocess, and is likely not a problem with pip.\n",
            "  Preparing metadata (pyproject.toml) ... \u001b[?25l\u001b[?25herror\n",
            "\u001b[1;31merror\u001b[0m: \u001b[1mmetadata-generation-failed\u001b[0m\n",
            "\n",
            "\u001b[31m×\u001b[0m Encountered error while generating package metadata.\n",
            "\u001b[31m╰─>\u001b[0m See above for output.\n",
            "\n",
            "\u001b[1;35mnote\u001b[0m: This is an issue with the package mentioned above, not pip.\n",
            "\u001b[1;36mhint\u001b[0m: See above for details.\n"
          ]
        }
      ]
    },
    {
      "cell_type": "code",
      "source": [
        "pwd"
      ],
      "metadata": {
        "colab": {
          "base_uri": "https://localhost:8080/",
          "height": 36
        },
        "id": "a_ylXzDK8IWJ",
        "outputId": "4cc475eb-0dae-4cda-c430-9d3e0d660e5a"
      },
      "execution_count": 8,
      "outputs": [
        {
          "output_type": "execute_result",
          "data": {
            "text/plain": [
              "'/content/drive/MyDrive/DeepSort/deep_sort_pytorch'"
            ],
            "application/vnd.google.colaboratory.intrinsic+json": {
              "type": "string"
            }
          },
          "metadata": {},
          "execution_count": 8
        }
      ]
    },
    {
      "cell_type": "code",
      "source": [
        "%cd /content/drive/MyDrive/DeepSort/deep_sort_pytorch/deep_sort/deep"
      ],
      "metadata": {
        "colab": {
          "base_uri": "https://localhost:8080/"
        },
        "id": "B3WFOYFU97rO",
        "outputId": "ded45fc4-8fd7-42f9-e491-7bc47c44f51e"
      },
      "execution_count": 10,
      "outputs": [
        {
          "output_type": "stream",
          "name": "stdout",
          "text": [
            "/content/drive/MyDrive/DeepSort/deep_sort_pytorch/deep_sort/deep\n"
          ]
        }
      ]
    },
    {
      "cell_type": "code",
      "source": [
        "%cp -r /content/drive/MyDrive/DeepSort/data /content/drive/MyDrive/DeepSort/deep_sort_pytorch/deep_sort/deep"
      ],
      "metadata": {
        "id": "DPqiUwjI6PQN"
      },
      "execution_count": 12,
      "outputs": []
    },
    {
      "cell_type": "code",
      "source": [
        "!python train.py"
      ],
      "metadata": {
        "colab": {
          "base_uri": "https://localhost:8080/"
        },
        "id": "BsRUQMOW-5II",
        "outputId": "c09a183b-9eea-4c36-d30f-0471e398cb33"
      },
      "execution_count": 13,
      "outputs": [
        {
          "output_type": "stream",
          "name": "stdout",
          "text": [
            "\n",
            "Epoch : 1\n",
            "Testing ...\n",
            "[progress:100.0%]time:0.22s Loss:0.00000 Correct:22/22 Acc:100.000%\n",
            "Saving parameters to checkpoint/ckpt.t7\n",
            "\n",
            "Epoch : 2\n",
            "Testing ...\n",
            "[progress:100.0%]time:0.06s Loss:0.00000 Correct:22/22 Acc:100.000%\n",
            "\n",
            "Epoch : 3\n",
            "Testing ...\n",
            "[progress:100.0%]time:0.06s Loss:0.00000 Correct:22/22 Acc:100.000%\n",
            "\n",
            "Epoch : 4\n",
            "Testing ...\n",
            "[progress:100.0%]time:0.06s Loss:0.00000 Correct:22/22 Acc:100.000%\n",
            "\n",
            "Epoch : 5\n",
            "Testing ...\n",
            "[progress:100.0%]time:0.05s Loss:0.00000 Correct:22/22 Acc:100.000%\n",
            "\n",
            "Epoch : 6\n",
            "Testing ...\n",
            "[progress:100.0%]time:0.06s Loss:0.00000 Correct:22/22 Acc:100.000%\n",
            "\n",
            "Epoch : 7\n",
            "Testing ...\n",
            "[progress:100.0%]time:0.05s Loss:0.00000 Correct:22/22 Acc:100.000%\n",
            "\n",
            "Epoch : 8\n",
            "Testing ...\n",
            "[progress:100.0%]time:0.05s Loss:0.00000 Correct:22/22 Acc:100.000%\n",
            "\n",
            "Epoch : 9\n",
            "Testing ...\n",
            "[progress:100.0%]time:0.05s Loss:0.00000 Correct:22/22 Acc:100.000%\n",
            "\n",
            "Epoch : 10\n",
            "Testing ...\n",
            "[progress:100.0%]time:0.05s Loss:0.00000 Correct:22/22 Acc:100.000%\n",
            "\n",
            "Epoch : 11\n",
            "Testing ...\n",
            "[progress:100.0%]time:0.06s Loss:0.00000 Correct:22/22 Acc:100.000%\n",
            "\n",
            "Epoch : 12\n",
            "Testing ...\n",
            "[progress:100.0%]time:0.05s Loss:0.00000 Correct:22/22 Acc:100.000%\n",
            "\n",
            "Epoch : 13\n",
            "Testing ...\n",
            "[progress:100.0%]time:0.05s Loss:0.00000 Correct:22/22 Acc:100.000%\n",
            "\n",
            "Epoch : 14\n",
            "Testing ...\n",
            "[progress:100.0%]time:0.06s Loss:0.00000 Correct:22/22 Acc:100.000%\n",
            "\n",
            "Epoch : 15\n",
            "Testing ...\n",
            "[progress:100.0%]time:0.05s Loss:0.00000 Correct:22/22 Acc:100.000%\n",
            "\n",
            "Epoch : 16\n",
            "Testing ...\n",
            "[progress:100.0%]time:0.05s Loss:0.00000 Correct:22/22 Acc:100.000%\n",
            "\n",
            "Epoch : 17\n",
            "Testing ...\n",
            "[progress:100.0%]time:0.05s Loss:0.00000 Correct:22/22 Acc:100.000%\n",
            "\n",
            "Epoch : 18\n",
            "Testing ...\n",
            "[progress:100.0%]time:0.05s Loss:0.00000 Correct:22/22 Acc:100.000%\n",
            "\n",
            "Epoch : 19\n",
            "Testing ...\n",
            "[progress:100.0%]time:0.05s Loss:0.00000 Correct:22/22 Acc:100.000%\n",
            "\n",
            "Epoch : 20\n",
            "Testing ...\n",
            "[progress:100.0%]time:0.05s Loss:0.00000 Correct:22/22 Acc:100.000%\n",
            "Learning rate adjusted to 0.010000000000000002\n",
            "\n",
            "Epoch : 21\n",
            "Testing ...\n",
            "[progress:100.0%]time:0.05s Loss:0.00000 Correct:22/22 Acc:100.000%\n",
            "\n",
            "Epoch : 22\n",
            "Testing ...\n",
            "[progress:100.0%]time:0.05s Loss:0.00000 Correct:22/22 Acc:100.000%\n",
            "\n",
            "Epoch : 23\n",
            "Testing ...\n",
            "[progress:100.0%]time:0.05s Loss:0.00000 Correct:22/22 Acc:100.000%\n",
            "\n",
            "Epoch : 24\n",
            "Testing ...\n",
            "[progress:100.0%]time:0.05s Loss:0.00000 Correct:22/22 Acc:100.000%\n",
            "\n",
            "Epoch : 25\n",
            "Testing ...\n",
            "[progress:100.0%]time:0.07s Loss:0.00000 Correct:22/22 Acc:100.000%\n",
            "\n",
            "Epoch : 26\n",
            "Testing ...\n",
            "[progress:100.0%]time:0.05s Loss:0.00000 Correct:22/22 Acc:100.000%\n",
            "\n",
            "Epoch : 27\n",
            "Testing ...\n",
            "[progress:100.0%]time:0.05s Loss:0.00000 Correct:22/22 Acc:100.000%\n",
            "\n",
            "Epoch : 28\n",
            "Testing ...\n",
            "[progress:100.0%]time:0.05s Loss:0.00000 Correct:22/22 Acc:100.000%\n",
            "\n",
            "Epoch : 29\n",
            "Testing ...\n",
            "[progress:100.0%]time:0.05s Loss:0.00000 Correct:22/22 Acc:100.000%\n",
            "\n",
            "Epoch : 30\n",
            "Testing ...\n",
            "[progress:100.0%]time:0.05s Loss:0.00000 Correct:22/22 Acc:100.000%\n",
            "\n",
            "Epoch : 31\n",
            "Testing ...\n",
            "[progress:100.0%]time:0.05s Loss:0.00000 Correct:22/22 Acc:100.000%\n",
            "\n",
            "Epoch : 32\n",
            "Testing ...\n",
            "[progress:100.0%]time:0.05s Loss:0.00000 Correct:22/22 Acc:100.000%\n",
            "\n",
            "Epoch : 33\n",
            "Testing ...\n",
            "[progress:100.0%]time:0.05s Loss:0.00000 Correct:22/22 Acc:100.000%\n",
            "\n",
            "Epoch : 34\n",
            "Testing ...\n",
            "[progress:100.0%]time:0.07s Loss:0.00000 Correct:22/22 Acc:100.000%\n",
            "\n",
            "Epoch : 35\n",
            "Testing ...\n",
            "[progress:100.0%]time:0.07s Loss:0.00000 Correct:22/22 Acc:100.000%\n",
            "\n",
            "Epoch : 36\n",
            "Testing ...\n",
            "[progress:100.0%]time:0.05s Loss:0.00000 Correct:22/22 Acc:100.000%\n",
            "\n",
            "Epoch : 37\n",
            "Testing ...\n",
            "[progress:100.0%]time:0.05s Loss:0.00000 Correct:22/22 Acc:100.000%\n",
            "\n",
            "Epoch : 38\n",
            "Testing ...\n",
            "[progress:100.0%]time:0.05s Loss:0.00000 Correct:22/22 Acc:100.000%\n",
            "\n",
            "Epoch : 39\n",
            "Testing ...\n",
            "[progress:100.0%]time:0.05s Loss:0.00000 Correct:22/22 Acc:100.000%\n",
            "\n",
            "Epoch : 40\n",
            "Testing ...\n",
            "[progress:100.0%]time:0.05s Loss:0.00000 Correct:22/22 Acc:100.000%\n",
            "Learning rate adjusted to 0.0010000000000000002\n"
          ]
        }
      ]
    },
    {
      "cell_type": "code",
      "source": [
        "# download ckpt.t7\n",
        "#and replace it in deepsort check point folder"
      ],
      "metadata": {
        "id": "hzF4Ct1e_HqL"
      },
      "execution_count": 14,
      "outputs": []
    }
  ]
}